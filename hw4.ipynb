{
  "nbformat": 4,
  "nbformat_minor": 0,
  "metadata": {
    "colab": {
      "name": "hw1.ipynb",
      "provenance": [],
      "collapsed_sections": [],
      "authorship_tag": "ABX9TyPvRJB8X8aRWpvlNj1d+3TX",
      "include_colab_link": true
    },
    "kernelspec": {
      "name": "python3",
      "display_name": "Python 3"
    }
  },
  "cells": [
    {
      "cell_type": "markdown",
      "metadata": {
        "id": "view-in-github",
        "colab_type": "text"
      },
      "source": [
        "<a href=\"https://colab.research.google.com/github/ljjh0078/Python20201017/blob/main/hw4.ipynb\" target=\"_parent\"><img src=\"https://colab.research.google.com/assets/colab-badge.svg\" alt=\"Open In Colab\"/></a>"
      ]
    },
    {
      "cell_type": "code",
      "metadata": {
        "id": "NU5bPvNw6SAq",
        "outputId": "e6bb6a3c-ac2e-434e-f13b-db571d6d28a3",
        "colab": {
          "base_uri": "https://localhost:8080/",
          "height": 34
        }
      },
      "source": [
        "list2=range(-4,5)\n",
        "print(list(list2))"
      ],
      "execution_count": null,
      "outputs": [
        {
          "output_type": "stream",
          "text": [
            "[-4, -3, -2, -1, 0, 1, 2, 3, 4]\n"
          ],
          "name": "stdout"
        }
      ]
    },
    {
      "cell_type": "code",
      "metadata": {
        "id": "lo4th3pgR0_0",
        "outputId": "820f87a7-1a56-43ac-b1e2-20bd0a114f2d",
        "colab": {
          "base_uri": "https://localhost:8080/",
          "height": 84
        }
      },
      "source": [
        "ls"
      ],
      "execution_count": 7,
      "outputs": [
        {
          "output_type": "stream",
          "text": [
            "\u001b[0m\u001b[01;34mbin\u001b[0m/      \u001b[01;34mdev\u001b[0m/   \u001b[01;34mlib32\u001b[0m/  \u001b[01;34mopt\u001b[0m/   \u001b[01;34msbin\u001b[0m/   \u001b[01;34mtensorflow-1.15.2\u001b[0m/  \u001b[01;34mvar\u001b[0m/\n",
            "\u001b[01;34mboot\u001b[0m/     \u001b[01;34metc\u001b[0m/   \u001b[01;34mlib64\u001b[0m/  \u001b[01;34mproc\u001b[0m/  \u001b[01;34msrv\u001b[0m/    \u001b[30;42mtmp\u001b[0m/\n",
            "\u001b[01;34mcontent\u001b[0m/  \u001b[01;34mhome\u001b[0m/  \u001b[01;34mmedia\u001b[0m/  \u001b[01;34mroot\u001b[0m/  \u001b[01;34mswift\u001b[0m/  \u001b[01;34mtools\u001b[0m/\n",
            "\u001b[01;34mdatalab\u001b[0m/  \u001b[01;34mlib\u001b[0m/   \u001b[01;34mmnt\u001b[0m/    \u001b[01;34mrun\u001b[0m/   \u001b[01;34msys\u001b[0m/    \u001b[01;34musr\u001b[0m/\n"
          ],
          "name": "stdout"
        }
      ]
    },
    {
      "cell_type": "code",
      "metadata": {
        "id": "WCOvbUqrR_2l",
        "outputId": "ecf65a10-7dbb-44db-ff4d-f7e4ccd95526",
        "colab": {
          "base_uri": "https://localhost:8080/",
          "height": 34
        }
      },
      "source": [
        "cd /usr"
      ],
      "execution_count": 9,
      "outputs": [
        {
          "output_type": "stream",
          "text": [
            "/usr\n"
          ],
          "name": "stdout"
        }
      ]
    },
    {
      "cell_type": "code",
      "metadata": {
        "id": "LIH8LtRFSdEj",
        "outputId": "4337995e-351e-48aa-e5ff-854d11ae2f41",
        "colab": {
          "base_uri": "https://localhost:8080/",
          "height": 34
        }
      },
      "source": [
        "ls"
      ],
      "execution_count": 10,
      "outputs": [
        {
          "output_type": "stream",
          "text": [
            "\u001b[0m\u001b[01;34mbin\u001b[0m/  \u001b[01;34mgames\u001b[0m/  \u001b[01;34mgrte\u001b[0m/  \u001b[01;34minclude\u001b[0m/  \u001b[01;34mlib\u001b[0m/  \u001b[01;34mlib32\u001b[0m/  \u001b[01;34mlocal\u001b[0m/  \u001b[01;34msbin\u001b[0m/  \u001b[01;34mshare\u001b[0m/  \u001b[01;34msrc\u001b[0m/\n"
          ],
          "name": "stdout"
        }
      ]
    },
    {
      "cell_type": "code",
      "metadata": {
        "id": "WRxJ1QEfSknV",
        "outputId": "d33c3952-5916-415d-bcc9-2066c4f0cac9",
        "colab": {
          "base_uri": "https://localhost:8080/",
          "height": 34
        }
      },
      "source": [
        "ls"
      ],
      "execution_count": 18,
      "outputs": [
        {
          "output_type": "stream",
          "text": [
            "hw3.ipynb  \u001b[0m\u001b[01;34mmy_module\u001b[0m/  Untitled0.ipynb\n"
          ],
          "name": "stdout"
        }
      ]
    },
    {
      "cell_type": "code",
      "metadata": {
        "id": "0vBrfYoKVQm2",
        "outputId": "bbcdcb5e-87bb-4234-cbd0-61838f637f7c",
        "colab": {
          "base_uri": "https://localhost:8080/",
          "height": 34
        }
      },
      "source": [
        "#!/usr/bin/python\n",
        "# -*- coding: UTF-8 -*-\n",
        " \n",
        "# 導|載入模組\n",
        "import my_module.Nice_to_meet_you as haha2\n",
        " \n",
        "# 現在可以調用模組裡包含的函數了\n",
        "haha2.Nice_to_meet_you(\"MyFriends\")"
      ],
      "execution_count": 19,
      "outputs": [
        {
          "output_type": "stream",
          "text": [
            "Hello :  MyFriends Nice to me you\n"
          ],
          "name": "stdout"
        }
      ]
    },
    {
      "cell_type": "code",
      "metadata": {
        "id": "fJMgY5dqVrw1",
        "outputId": "66c68a50-7b85-4f26-d9c9-2a2744861f24",
        "colab": {
          "base_uri": "https://localhost:8080/",
          "height": 34
        }
      },
      "source": [
        "#!/usr/bin/python\n",
        "# -*- coding: UTF-8 -*-\n",
        " \n",
        "# 導|載入模組\n",
        "import my_module.support as haha\n",
        " \n",
        "# 現在可以調用模組裡包含的函數了\n",
        "haha.print_func(\"MyFriends\")"
      ],
      "execution_count": 20,
      "outputs": [
        {
          "output_type": "stream",
          "text": [
            "Hello :  MyFriends\n"
          ],
          "name": "stdout"
        }
      ]
    }
  ]
}